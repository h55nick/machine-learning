{
 "cells": [
  {
   "cell_type": "markdown",
   "metadata": {},
   "source": [
    "# Machine Learning Engineer Nanodegree\n",
    "\n",
    "### Editor/Student: Nick Blanchet\n",
    "\n",
    "## Model Evaluation & Validation\n",
    "## Project 1: Predicting Boston Housing Prices\n",
    "\n",
    "Welcome to the first project of the Machine Learning Engineer Nanodegree! In this notebook, some template code has already been provided for you, and you will need to implement additional functionality to successfully complete this project. You will not need to modify the included code beyond what is requested. Sections that begin with **'Implementation'** in the header indicate that the following block of code will require additional functionality which you must provide. Instructions will be provided for each section and the specifics of the implementation are marked in the code block with a 'TODO' statement. Please be sure to read the instructions carefully!\n",
    "\n",
    "In addition to implementing code, there will be questions that you must answer which relate to the project and your implementation. Each section where you will answer a question is preceded by a **'Question X'** header. Carefully read each question and provide thorough answers in the following text boxes that begin with **'Answer:'**. Your project submission will be evaluated based on your answers to each of the questions and the implementation you provide.  \n",
    "\n",
    ">**Note:** Code and Markdown cells can be executed using the **Shift + Enter** keyboard shortcut. In addition, Markdown cells can be edited by typically double-clicking the cell to enter edit mode."
   ]
  },
  {
   "cell_type": "markdown",
   "metadata": {},
   "source": [
<<<<<<< HEAD
    "#Getting Started\n",
    "To familiarize yourself with an iPython Notebook, **try double clicking on this cell**. You will notice that the text changes so that all the formatting is removed. This allows you to make edits to the block of text you see here. This block of text (and mostly anything that's not code) is written using [Markdown](http://daringfireball.net/projects/markdown/syntax), which is a way to format text using headers, links, italics, and many other options! Whether you're editing a Markdown text block or a code block (like the one below), you can use the keyboard shortcut **Shift + Enter** or **Shift + Return** to execute the code or text block. In this case, it will show the formatted text.\n",
=======
    "## Getting Started\n",
    "In this project, you will evaluate the performance and predictive power of a model that has been trained and tested on data collected from homes in suburbs of Boston, Massachusetts. A model trained on this data that is seen as a *good fit* could then be used to make certain predictions about a home — in particular, its monetary value. This model would prove to be invaluable for someone like a real estate agent who could make use of such information on a daily basis.\n",
>>>>>>> e39d4b4be0864ea2588b9f81dea5bb1f8b8fdfbf
    "\n",
    "The dataset for this project originates from the [UCI Machine Learning Repository](https://archive.ics.uci.edu/ml/datasets/Housing). The Boston housing data was collected in 1978 and each of the 506 entries represent aggregated data about 14 features for homes from various suburbs in Boston, Massachusetts. For the purposes of this project, the following preprocessing steps have been made to the dataset:\n",
    "- 16 data points have an `'MEDV'` value of 50.0. These data points likely contain **missing or censored values** and have been removed.\n",
    "- 1 data point has an `'RM'` value of 8.78. This data point can be considered an **outlier** and has been removed.\n",
    "- The features `'RM'`, `'LSTAT'`, `'PTRATIO'`, and `'MEDV'` are essential. The remaining **non-relevant features** have been excluded.\n",
    "- The feature `'MEDV'` has been **multiplicatively scaled** to account for 35 years of market inflation.\n",
    "\n",
    "Run the code cell below to load the Boston housing dataset, along with a few of the necessary Python libraries required for this project. You will know the dataset loaded successfully if the size of the dataset is reported."
   ]
  },
  {
   "cell_type": "code",
   "execution_count": 66,
   "metadata": {
    "collapsed": false
   },
   "outputs": [
    {
     "name": "stdout",
     "output_type": "stream",
     "text": [
      "Boston Housing dataset loaded successfully!\n"
     ]
    }
   ],
   "source": [
    "# Import libraries necessary for this project\n",
    "import numpy as np\n",
<<<<<<< HEAD
    "import matplotlib.pyplot as pl\n",
    "from sklearn import datasets\n",
    "from sklearn.tree import DecisionTreeRegressor\n",
    "from sklearn import cross_validation\n",
=======
    "import pandas as pd\n",
    "import visuals as vs # Supplementary code\n",
    "from sklearn.cross_validation import ShuffleSplit\n",
>>>>>>> e39d4b4be0864ea2588b9f81dea5bb1f8b8fdfbf
    "\n",
    "# Pretty display for notebooks\n",
    "%matplotlib inline\n",
    "\n",
<<<<<<< HEAD
    "# Create our client's feature set for which we will be predicting a selling price\n",
    "CLIENT_FEATURES = [[11.95, 0.00, 18.100, 0, 0.6590, 5.6090, 90.00, 1.385, 24, 680.0, 20.20, 332.09, 12.13]]\n",
    "\n",
    "# Load the Boston Housing dataset into the city_data variable\n",
    "city_data = datasets.load_boston()\n",
    "\n",
    "# Initialize the housing prices and housing features\n",
    "housing_prices = city_data.target\n",
    "housing_features = city_data.data\n",
    "\n",
    "print(\"Boston Housing dataset loaded successfully!\")"
=======
    "# Load the Boston housing dataset\n",
    "data = pd.read_csv('housing.csv')\n",
    "prices = data['MEDV']\n",
    "features = data.drop('MEDV', axis = 1)\n",
    "    \n",
    "# Success\n",
    "print \"Boston housing dataset has {} data points with {} variables each.\".format(*data.shape)"
>>>>>>> e39d4b4be0864ea2588b9f81dea5bb1f8b8fdfbf
   ]
  },
  {
   "cell_type": "markdown",
   "metadata": {},
   "source": [
<<<<<<< HEAD
    "# Statistical Analysis and Data Exploration\n",
    "\n",
    "In this first section of the project, you will quickly investigate a few basic statistics about the dataset you are working with. In addition, you'll look at the client's feature set in `CLIENT_FEATURES` and see how this particular sample relates to the features of the dataset. Familiarizing yourself with the data through an explorative process is a fundamental practice to help you better understand your results."
=======
    "## Data Exploration\n",
    "In this first section of this project, you will make a cursory investigation about the Boston housing data and provide your observations. Familiarizing yourself with the data through an explorative process is a fundamental practice to help you better understand and justify your results.\n",
    "\n",
    "Since the main goal of this project is to construct a working model which has the capability of predicting the value of houses, we will need to separate the dataset into **features** and the **target variable**. The **features**, `'RM'`, `'LSTAT'`, and `'PTRATIO'`, give us quantitative information about each data point. The **target variable**, `'MEDV'`, will be the variable we seek to predict. These are stored in `features` and `prices`, respectively."
>>>>>>> e39d4b4be0864ea2588b9f81dea5bb1f8b8fdfbf
   ]
  },
  {
   "cell_type": "markdown",
   "metadata": {},
   "source": [
    "### Implementation: Calculate Statistics\n",
    "For your very first coding implementation, you will calculate descriptive statistics about the Boston housing prices. Since `numpy` has already been imported for you, use this library to perform the necessary calculations. These statistics will be extremely important later on to analyze various prediction results from the constructed model.\n",
    "\n",
    "In the code cell below, you will need to implement the following:\n",
    "- Calculate the minimum, maximum, mean, median, and standard deviation of `'MEDV'`, which is stored in `prices`.\n",
    "  - Store each calculation in their respective variable."
   ]
  },
  {
   "cell_type": "code",
   "execution_count": 67,
   "metadata": {
    "collapsed": false,
    "scrolled": true
   },
<<<<<<< HEAD
   "outputs": [
    {
     "name": "stdout",
     "output_type": "stream",
     "text": [
      "Boston Housing dataset statistics (in $1000's):\n",
      "\n",
      "Total number of houses: 506\n",
      "Total number of features: 13\n",
      "Minimum house price: 5.0\n",
      "Maximum house price: 50.0\n",
      "Mean house price: 22.533\n",
      "Median house price: 21.2\n",
      "Standard deviation of house price: 9.188\n"
     ]
    }
   ],
   "source": [
    "\n",
    "# shape returns a tuple of dimensions of dataset\n",
    "housing_dimensions = housing_features.shape\n",
    "\n",
    "# Number of houses in the dataset\n",
    "total_houses = housing_dimensions[0]\n",
    "\n",
    "# Number of features in the dataset\n",
    "total_features = housing_dimensions[1]\n",
    "# Alternative: np.array(CLIENT_FEATURES).size\n",
    "\n",
    "# Minimum housing value in the dataset\n",
    "minimum_price = housing_prices.min()\n",
    "\n",
    "# Maximum housing value in the dataset\n",
    "maximum_price = housing_prices.max()\n",
    "\n",
    "# Mean house value of the dataset\n",
    "mean_price = housing_prices.mean()\n",
    "\n",
    "# Median house value of the dataset\n",
    "median_price = np.median(housing_prices)\n",
    "\n",
    "# Standard deviation of housing values of the dataset\n",
    "std_dev = np.std(housing_prices)\n",
    "\n",
    "# Show the calculated statistics\n",
    "print(\"Boston Housing dataset statistics (in $1000's):\\n\")\n",
    "print(\"Total number of houses:\", total_houses)\n",
    "print(\"Total number of features:\", total_features)\n",
    "print(\"Minimum house price:\", minimum_price)\n",
    "print(\"Maximum house price:\", maximum_price)\n",
    "print(\"Mean house price: {0:.3f}\".format(mean_price))\n",
    "print(\"Median house price:\", median_price)\n",
    "print(\"Standard deviation of house price: {0:.3f}\".format(std_dev))"
=======
   "outputs": [],
   "source": [
    "# TODO: Minimum price of the data\n",
    "minimum_price = None\n",
    "\n",
    "# TODO: Maximum price of the data\n",
    "maximum_price = None\n",
    "\n",
    "# TODO: Mean price of the data\n",
    "mean_price = None\n",
    "\n",
    "# TODO: Median price of the data\n",
    "median_price = None\n",
    "\n",
    "# TODO: Standard deviation of prices of the data\n",
    "std_price = None\n",
    "\n",
    "# Show the calculated statistics\n",
    "print \"Statistics for Boston housing dataset:\\n\"\n",
    "print \"Minimum price: ${:,.2f}\".format(minimum_price)\n",
    "print \"Maximum price: ${:,.2f}\".format(maximum_price)\n",
    "print \"Mean price: ${:,.2f}\".format(mean_price)\n",
    "print \"Median price ${:,.2f}\".format(median_price)\n",
    "print \"Standard deviation of prices: ${:,.2f}\".format(std_price)"
>>>>>>> e39d4b4be0864ea2588b9f81dea5bb1f8b8fdfbf
   ]
  },
  {
   "cell_type": "markdown",
   "metadata": {},
   "source": [
    "### Question 1 - Feature Observation\n",
    "As a reminder, we are using three features from the Boston housing dataset: `'RM'`, `'LSTAT'`, and `'PTRATIO'`. For each data point (neighborhood):\n",
    "- `'RM'` is the average number of rooms among homes in the neighborhood.\n",
    "- `'LSTAT'` is the percentage of homeowners in the neighborhood considered \"lower class\" (working poor).\n",
    "- `'PTRATIO'` is the ratio of students to teachers in primary and secondary schools in the neighborhood.\n",
    "\n",
<<<<<<< HEAD
    "*Of the features available for each data point, choose three that you feel are significant and give a brief description for each of what they measure.*\n",
    "\n",
    "Notes: \n",
    "\n",
    "Attribute Information:\n",
    "1. CRIM: per capita crime rate by town \n",
    "2. ZN: proportion of residential land zoned for lots over 25,000 sq.ft. \n",
    "3. INDUS: proportion of non-retail business acres per town \n",
    "4. CHAS: Charles River dummy variable (= 1 if tract bounds river; 0 otherwise) \n",
    "5. NOX: nitric oxides concentration (parts per 10 million) \n",
    "6. RM: average number of rooms per dwelling \n",
    "7. AGE: proportion of owner-occupied units built prior to 1940 \n",
    "8. DIS: weighted distances to five Boston employment centres \n",
    "9. RAD: index of accessibility to radial highways \n",
    "10. TAX: full-value property-tax rate per $10,000 \n",
    "11. PTRATIO: pupil-teacher ratio by town \n",
    "12. B: 1000(Bk - 0.63)^2 where Bk is the proportion of blacks by town \n",
    "13. LSTAT: % lower status of the population \n",
    "Not included:\n",
    "14. MEDV: Median value of owner-occupied homes in $1000's\n",
    "\n",
    "Remember, you can **double click the text box below** to add your answer!"
=======
    "_Using your intuition, for each of the three features above, do you think that an increase in the value of that feature would lead to an **increase** in the value of `'MEDV'` or a **decrease** in the value of `'MEDV'`? Justify your answer for each._  \n",
    "**Hint:** Would you expect a home that has an `'RM'` value of 6 be worth more or less than a home that has an `'RM'` value of 7?"
>>>>>>> e39d4b4be0864ea2588b9f81dea5bb1f8b8fdfbf
   ]
  },
  {
   "cell_type": "markdown",
   "metadata": {},
   "source": [
    "**Answer: **\n",
    "\n",
    "Three features that I think will have a significant impact:\n",
    "\n",
    "1. RM(6) The number of rooms should have a high correlation with price as it's a general indicator of size. The one counter here is that it's not necessarily correlated with quality.\n",
    "\n",
    "2. TAX(10) The taxes on property will have some relation to the pricing as they are proportional. \n",
    "\n",
    "3. CRIM(1) This should have a strong negative correlation with the price of housing. Generally housing prices reflect the underlying socio-economic trends and high-crime generally means a worse off population and the resulting lower housing pricing. "
   ]
  },
  {
   "cell_type": "markdown",
   "metadata": {},
   "source": [
<<<<<<< HEAD
    "##Question 2\n",
    "*Using your client's feature set `CLIENT_FEATURES`, which values correspond with the features you've chosen above?*  \n",
    "**Hint: ** Run the code block below to see the client's data."
=======
    "----\n",
    "\n",
    "## Developing a Model\n",
    "In this second section of the project, you will develop the tools and techniques necessary for a model to make a prediction. Being able to make accurate evaluations of each model's performance through the use of these tools and techniques helps to greatly reinforce the confidence in your predictions."
   ]
  },
  {
   "cell_type": "markdown",
   "metadata": {},
   "source": [
    "### Implementation: Define a Performance Metric\n",
    "It is difficult to measure the quality of a given model without quantifying its performance over training and testing. This is typically done using some type of performance metric, whether it is through calculating some type of error, the goodness of fit, or some other useful measurement. For this project, you will be calculating the [*coefficient of determination*](http://stattrek.com/statistics/dictionary.aspx?definition=coefficient_of_determination), R<sup>2</sup>, to quantify your model's performance. The coefficient of determination for a model is a useful statistic in regression analysis, as it often describes how \"good\" that model is at making predictions. \n",
    "\n",
    "The values for R<sup>2</sup> range from 0 to 1, which captures the percentage of squared correlation between the predicted and actual values of the **target variable**. A model with an R<sup>2</sup> of 0 always fails to predict the target variable, whereas a model with an R<sup>2</sup> of 1 perfectly predicts the target variable. Any value between 0 and 1 indicates what percentage of the target variable, using this model, can be explained by the **features**. *A model can be given a negative R<sup>2</sup> as well, which indicates that the model is no better than one that naively predicts the mean of the target variable.*\n",
    "\n",
    "For the `performance_metric` function in the code cell below, you will need to implement the following:\n",
    "- Use `r2_score` from `sklearn.metrics` to perform a performance calculation between `y_true` and `y_predict`.\n",
    "- Assign the performance score to the `score` variable."
>>>>>>> e39d4b4be0864ea2588b9f81dea5bb1f8b8fdfbf
   ]
  },
  {
   "cell_type": "code",
   "execution_count": 68,
   "metadata": {
    "collapsed": false
   },
   "outputs": [
    {
     "name": "stdout",
     "output_type": "stream",
     "text": [
      "[[11.95, 0.0, 18.1, 0, 0.659, 5.609, 90.0, 1.385, 24, 680.0, 20.2, 332.09, 12.13]]\n"
     ]
    }
   ],
   "source": [
<<<<<<< HEAD
    "print(CLIENT_FEATURES)"
=======
    "# TODO: Import 'r2_score'\n",
    "\n",
    "def performance_metric(y_true, y_predict):\n",
    "    \"\"\" Calculates and returns the performance score between \n",
    "        true and predicted values based on the metric chosen. \"\"\"\n",
    "    \n",
    "    # TODO: Calculate the performance score between 'y_true' and 'y_predict'\n",
    "    score = None\n",
    "    \n",
    "    # Return the score\n",
    "    return score"
>>>>>>> e39d4b4be0864ea2588b9f81dea5bb1f8b8fdfbf
   ]
  },
  {
   "cell_type": "markdown",
   "metadata": {},
   "source": [
<<<<<<< HEAD
    "**Answer: **\n",
    "\n",
    "RM(6) - 5.609\n",
    "TAX(10) - 680.0\n",
    "CRIM(1) - 11.95\n"
=======
    "### Question 2 - Goodness of Fit\n",
    "Assume that a dataset contains five data points and a model made the following predictions for the target variable:\n",
    "\n",
    "| True Value | Prediction |\n",
    "| :-------------: | :--------: |\n",
    "| 3.0 | 2.5 |\n",
    "| -0.5 | 0.0 |\n",
    "| 2.0 | 2.1 |\n",
    "| 7.0 | 7.8 |\n",
    "| 4.2 | 5.3 |\n",
    "*Would you consider this model to have successfully captured the variation of the target variable? Why or why not?* \n",
    "\n",
    "Run the code cell below to use the `performance_metric` function and calculate this model's coefficient of determination."
   ]
  },
  {
   "cell_type": "code",
   "execution_count": null,
   "metadata": {
    "collapsed": false
   },
   "outputs": [],
   "source": [
    "# Calculate the performance of this model\n",
    "score = performance_metric([3, -0.5, 2, 7, 4.2], [2.5, 0.0, 2.1, 7.8, 5.3])\n",
    "print \"Model has a coefficient of determination, R^2, of {:.3f}.\".format(score)"
>>>>>>> e39d4b4be0864ea2588b9f81dea5bb1f8b8fdfbf
   ]
  },
  {
   "cell_type": "markdown",
   "metadata": {},
   "source": [
    "**Answer:**"
   ]
  },
  {
   "cell_type": "markdown",
   "metadata": {},
   "source": [
    "### Implementation: Shuffle and Split Data\n",
    "Your next implementation requires that you take the Boston housing dataset and split the data into training and testing subsets. Typically, the data is also shuffled into a random order when creating the training and testing subsets to remove any bias in the ordering of the dataset.\n",
    "\n",
<<<<<<< HEAD
    "If you use any functions not already acessible from the imported libraries above, remember to include your import statement below as well!  \n",
    "Ensure that you have executed the code block once you are done. You'll know if the `shuffle_split_data` function is working if the statement *\"Successfully shuffled and split the data!\"* is printed."
=======
    "For the code cell below, you will need to implement the following:\n",
    "- Use `train_test_split` from `sklearn.cross_validation` to shuffle and split the `features` and `prices` data into training and testing sets.\n",
    "  - Split the data into 80% training and 20% testing.\n",
    "  - Set the `random_state` for `train_test_split` to a value of your choice. This ensures results are consistent.\n",
    "- Assign the train and testing splits to `X_train`, `X_test`, `y_train`, and `y_test`."
>>>>>>> e39d4b4be0864ea2588b9f81dea5bb1f8b8fdfbf
   ]
  },
  {
   "cell_type": "code",
   "execution_count": 69,
   "metadata": {
    "collapsed": false
   },
   "outputs": [
    {
     "name": "stdout",
     "output_type": "stream",
     "text": [
      "Successfully shuffled and split the data!\n"
     ]
    }
   ],
   "source": [
<<<<<<< HEAD
    "# Put any import statements you need for this code block here\n",
    "\n",
    "def shuffle_split_data(X, y):\n",
    "    \"\"\" Shuffles and splits data into 70% training and 30% testing subsets,\n",
    "        then returns the training and testing subsets. \"\"\"\n",
    "\n",
    "    test_size = 0.3\n",
    "    \n",
    "    # Shuffle and split the data\n",
    "    # cross_validation is from sklearn\n",
    "    # example used here: http://scikit-learn.org/stable/modules/cross_validation.html#cross-validation\n",
    "    X_train, X_test, y_train, y_test = cross_validation.train_test_split(X, y, test_size=test_size, random_state=0)\n",
    "\n",
    "\n",
    "    # Return the training and testing data subsets\n",
    "    # confirms they are the right size:\n",
    "    # print(X_train.shape, X_test.shape, y_train.shape, y_test.shape)\n",
    "    # Note: \n",
    "    #   506 is not evenly divided by 30% for ints, there is rounding in favor or the training side happening\n",
    "    #   to make the training hole.\n",
    "    return X_train, y_train, X_test, y_test\n",
    "\n",
    "\n",
    "# Test shuffle_split_data\n",
    "try:\n",
    "    X_train, y_train, X_test, y_test = shuffle_split_data(housing_features, housing_prices)\n",
    "    print(\"Successfully shuffled and split the data!\")\n",
    "except:\n",
    "    print(\"Something went wrong with shuffling and splitting the data.\")"
=======
    "# TODO: Import 'train_test_split'\n",
    "\n",
    "# TODO: Shuffle and split the data into training and testing subsets\n",
    "X_train, X_test, y_train, y_test = (None, None, None, None)\n",
    "\n",
    "# Success\n",
    "print \"Training and testing split was successful.\""
>>>>>>> e39d4b4be0864ea2588b9f81dea5bb1f8b8fdfbf
   ]
  },
  {
   "cell_type": "markdown",
   "metadata": {},
   "source": [
<<<<<<< HEAD
    "## Question 4\n",
    "* Why do we split the data into training and testing subsets for our model?*"
=======
    "### Question 3 - Training and Testing\n",
    "*What is the benefit to splitting a dataset into some ratio of training and testing subsets for a learning algorithm?*  \n",
    "**Hint:** What could go wrong with not having a way to test your model?"
>>>>>>> e39d4b4be0864ea2588b9f81dea5bb1f8b8fdfbf
   ]
  },
  {
   "cell_type": "markdown",
   "metadata": {},
   "source": [
    "**Answer: **\n",
    "\n",
    "Splitting the data allows us to examine the results of the training data and comapare the performance of that to the testing data. This can help us explore the possibility of bias and overfitting.\n",
    "\n",
    " - This is to help spot/asses overfitting. By splitting we can cross-validate which means we can explore optimizations without risking being biased. \n"
   ]
  },
  {
   "cell_type": "markdown",
   "metadata": {},
   "source": [
    "----\n",
    "\n",
<<<<<<< HEAD
    "You will need to first choose an appropriate performance metric for this problem. See [the sklearn metrics documentation](http://scikit-learn.org/stable/modules/classes.html#sklearn-metrics-metrics) to view a list of available metric functions. \n",
    "\n",
    "**Hint: ** Look at the question below to see a list of the metrics that were covered in the supporting course for this project.\n",
    "\n",
    "Once you have determined which metric you will use, remember to include the necessary import statement as well!  \n",
    "Ensure that you have executed the code block once you are done. You'll know if the `performance_metric` function is working if the statement *\"Successfully performed a metric calculation!\"* is printed."
=======
    "## Analyzing Model Performance\n",
    "In this third section of the project, you'll take a look at several models' learning and testing performances on various subsets of training data. Additionally, you'll investigate one particular algorithm with an increasing `'max_depth'` parameter on the full training set to observe how model complexity affects performance. Graphing your model's performance based on varying criteria can be beneficial in the analysis process, such as visualizing behavior that may not have been apparent from the results alone."
   ]
  },
  {
   "cell_type": "markdown",
   "metadata": {},
   "source": [
    "### Learning Curves\n",
    "The following code cell produces four graphs for a decision tree model with different maximum depths. Each graph visualizes the learning curves of the model for both training and testing as the size of the training set is increased. Note that the shaded region of a learning curve denotes the uncertainty of that curve (measured as the standard deviation). The model is scored on both the training and testing sets using R<sup>2</sup>, the coefficient of determination.  \n",
    "\n",
    "Run the code cell below and use these graphs to answer the following question."
>>>>>>> e39d4b4be0864ea2588b9f81dea5bb1f8b8fdfbf
   ]
  },
  {
   "cell_type": "code",
   "execution_count": 70,
   "metadata": {
    "collapsed": false,
    "scrolled": false
   },
   "outputs": [
    {
     "name": "stdout",
     "output_type": "stream",
     "text": [
      "Successfully performed a metric calculation!\n"
     ]
    }
   ],
   "source": [
<<<<<<< HEAD
    "# Put any import statements you need for this code block here\n",
    "from sklearn.metrics import mean_absolute_error\n",
    "\n",
    "def performance_metric(y_true, y_predict):\n",
    "    \"\"\" Calculates and returns the total error between true and predicted values\n",
    "        based on a performance metric chosen by the student. \"\"\"\n",
    "\n",
    "    return mean_absolute_error(y_true, y_predict)\n",
    "\n",
    "# Test performance_metric\n",
    "try:\n",
    "    total_error = performance_metric(y_train, y_train)\n",
    "    print(\"Successfully performed a metric calculation!\")\n",
    "except:\n",
    "    print(\"Something went wrong with performing a metric calculation.\")"
=======
    "# Produce learning curves for varying training set sizes and maximum depths\n",
    "vs.ModelLearning(features, prices)"
>>>>>>> e39d4b4be0864ea2588b9f81dea5bb1f8b8fdfbf
   ]
  },
  {
   "cell_type": "markdown",
   "metadata": {},
   "source": [
<<<<<<< HEAD
    "## Question 4\n",
    "* Which performance metric below did you find was most appropriate for predicting housing prices and analyzing the total error. Why? *\n",
    "\n",
    "Choice:\n",
    "- *Mean Absolute Error (MAE)* this is a reflection of error and is not weighted heavily towards outliers. This guy is a winner!\n",
    "\n",
    "No:\n",
    "- *Accuracy* - no because the fraction of correct predictions is not scalar\n",
    "- *Precision* - only half the equation, a good model is both precise and consistent\n",
    "- *Recall* - again, but here missing the precise and having consistent\n",
    "- *F1 Score* - this is the inverse of error! \n",
    "- *Mean Squared Error (MSE)* - this overweights outliers \n"
=======
    "### Question 4 - Learning the Data\n",
    "*Choose one of the graphs above and state the maximum depth for the model. What happens to the score of the training curve as more training points are added? What about the testing curve? Would having more training points benefit the model?*  \n",
    "**Hint:** Are the learning curves converging to particular scores?"
>>>>>>> e39d4b4be0864ea2588b9f81dea5bb1f8b8fdfbf
   ]
  },
  {
   "cell_type": "markdown",
   "metadata": {},
   "source": [
    "**Answer: **\n",
    "\n",
    "Choice:\n",
    "- *Mean Absolute Error (MAE)* this is a reflection of error and is not weighted heavily towards outliers. This guy is a winner!\n",
    "\n",
    "(copied from above, also tried to explain why we don't pick the others)"
   ]
  },
  {
   "cell_type": "markdown",
   "metadata": {},
   "source": [
<<<<<<< HEAD
    "## Step 4 (Final Step)\n",
    "\n",
    "In the code block below, you will need to implement code so that the `fit_model` function does the following:\n",
    "\n",
    "- Create a scoring function using the same performance metric as in **Step 2**. See the [sklearn `make_scorer` documentation](http://scikit-learn.org/stable/modules/generated/sklearn.metrics.make_scorer.html).\n",
    "\n",
    "- Build a GridSearchCV object using `regressor`, `parameters`, and `scoring_function`. See the [sklearn documentation on GridSearchCV](http://scikit-learn.org/stable/modules/generated/sklearn.grid_search.GridSearchCV.html).\n",
    "\n",
    "When building the scoring function and GridSearchCV object, *be sure that you read the parameters documentation thoroughly.* It is not always the case that a default parameter for a function is the appropriate setting for the problem you are working on.\n",
    "\n",
    "Since you are using `sklearn` functions, remember to include the necessary import statements below as well!  \n",
    "Ensure that you have executed the code block once you are done. You'll know if the `fit_model` function is working if the statement *\"Successfully fit a model to the data!\"* is printed."
=======
    "### Complexity Curves\n",
    "The following code cell produces a graph for a decision tree model that has been trained and validated on the training data using different maximum depths. The graph produces two complexity curves — one for training and one for validation. Similar to the **learning curves**, the shaded regions of both the complexity curves denote the uncertainty in those curves, and the model is scored on both the training and validation sets using the `performance_metric` function.  \n",
    "\n",
    "Run the code cell below and use this graph to answer the following two questions."
>>>>>>> e39d4b4be0864ea2588b9f81dea5bb1f8b8fdfbf
   ]
  },
  {
   "cell_type": "code",
   "execution_count": 71,
   "metadata": {
    "collapsed": false
   },
   "outputs": [
    {
     "name": "stdout",
     "output_type": "stream",
     "text": [
      "Successfully fit a model!\n"
     ]
    }
   ],
   "source": [
<<<<<<< HEAD
    "# Put any import statements you need for this code block\n",
    "from sklearn.metrics import mean_absolute_error\n",
    "from sklearn import grid_search\n",
    "\n",
    "def fit_model(X, y):\n",
    "    \"\"\" Tunes a decision tree regressor model using GridSearchCV on the input data X \n",
    "        and target labels y and returns this optimal model. \"\"\"\n",
    "\n",
    "    # Create a decision tree regressor object\n",
    "    regressor = DecisionTreeRegressor()\n",
    "\n",
    "    # Set up the parameters we wish to tune\n",
    "    parameters = {'max_depth':(1,2,3,4,5,6,7,8,9,10)}\n",
    "\n",
    "    # Make an appropriate scoring function\n",
    "    # used from above.\n",
    "    scoring_function = mean_absolute_error\n",
    "\n",
    "    # Make the GridSearchCV object\n",
    "    # docs: http://scikit-learn.org/stable/modules/generated/sklearn.grid_search.GridSearchCV.html#sklearn.grid_search.GridSearchCV\n",
    "    reg = grid_search.GridSearchCV(regressor, parameters)\n",
    "\n",
    "    # Fit the learner to the data to obtain the optimal model with tuned parameters\n",
    "    reg.fit(X, y)\n",
    "\n",
    "    # Return the optimal model\n",
    "    return reg\n",
    "\n",
    "\n",
    "# Test fit_model on entire dataset\n",
    "try:\n",
    "    reg = fit_model(housing_features, housing_prices)\n",
    "    print(\"Successfully fit a model!\")\n",
    "except:\n",
    "    print(\"Something went wrong with fitting a model.\")"
=======
    "vs.ModelComplexity(X_train, y_train)"
>>>>>>> e39d4b4be0864ea2588b9f81dea5bb1f8b8fdfbf
   ]
  },
  {
   "cell_type": "markdown",
   "metadata": {},
   "source": [
<<<<<<< HEAD
    "## Question 5\n",
    "* What is the grid search algorithm and when is it applicable?*"
=======
    "### Question 5 - Bias-Variance Tradeoff\n",
    "*When the model is trained with a maximum depth of 1, does the model suffer from high bias or from high variance? How about when the model is trained with a maximum depth of 10? What visual cues in the graph justify your conclusions?*  \n",
    "**Hint:** How do you know when a model is suffering from high bias or high variance?"
>>>>>>> e39d4b4be0864ea2588b9f81dea5bb1f8b8fdfbf
   ]
  },
  {
   "cell_type": "markdown",
   "metadata": {},
   "source": [
    "** Answer: **\n",
    "\n",
    "GridSearchCV does optimization of parameters provided for it using the error and regressor provided to it. By default it does 3-fold cross-validation."
   ]
  },
  {
   "cell_type": "markdown",
   "metadata": {},
   "source": [
<<<<<<< HEAD
    "## Question 6\n",
    "* What is cross-validation, and how is it performed on a model? Why would cross-validation be helpful when using grid search? *"
=======
    "### Question 6 - Best-Guess Optimal Model\n",
    "*Which maximum depth do you think results in a model that best generalizes to unseen data? What intuition lead you to this answer?*"
>>>>>>> e39d4b4be0864ea2588b9f81dea5bb1f8b8fdfbf
   ]
  },
  {
   "cell_type": "markdown",
   "metadata": {},
   "source": [
    "** Answer: **\n",
    "\n",
    "Cross validation is the process of dividing the training data into two datasets, one training and one test. One used for optimization of parameters and the second to be used for testing the optimized model on data that the model did not 'train' on. The primary reason for doing this is to avoid overfitting on training data. Because cross-validation is an randomized iterative process each sub-slice of the data can be examined and results averaged to get the best look at the data.\n",
    "\n",
    "Specifically cross-validation in regards to the grid search method allows us to optimize non-model related parameters (above called parameters, specifically max-depth for the DecisionTreeRegressor). \n"
   ]
  },
  {
   "cell_type": "markdown",
   "metadata": {},
   "source": [
<<<<<<< HEAD
    "# Checkpoint!\n",
    "\n",
    "You have now successfully completed your last code implementation section. Pat yourself on the back! All of your functions written above will be executed in the remaining sections below, and questions will be asked about various results for you to analyze. To prepare the **Analysis** and **Prediction** sections, you will need to intialize the two functions below. Remember, there's no need to implement any more code, so sit back and execute the code blocks! Some code comments are provided if you find yourself interested in the functionality."
   ]
  },
  {
   "cell_type": "code",
   "execution_count": 72,
   "metadata": {
    "collapsed": false
   },
   "outputs": [],
   "source": [
    "def learning_curves(X_train, y_train, X_test, y_test):\n",
    "    \"\"\" Calculates the performance of several models with varying sizes of training data.\n",
    "        The learning and testing error rates for each model are then plotted. \"\"\"\n",
    "    \n",
    "    print(\"Creating learning curve graphs for max_depths of 1, 3, 6, and 10. . .\")\n",
    "    \n",
    "    # Create the figure window\n",
    "    fig = pl.figure(figsize=(10,8))\n",
    "\n",
    "    # We will vary the training set size so that we have 50 different sizes\n",
    "    sizes = np.round(np.linspace(1, len(X_train), 50))\n",
    "    train_err = np.zeros(len(sizes))\n",
    "    test_err = np.zeros(len(sizes))\n",
    "\n",
    "    # Create four different models based on max_depth\n",
    "    for k, depth in enumerate([1,3,6,10]):\n",
    "        \n",
    "        for i, s in enumerate(sizes):\n",
    "            \n",
    "            # Setup a decision tree regressor so that it learns a tree with max_depth = depth\n",
    "            regressor = DecisionTreeRegressor(max_depth = depth)\n",
    "            \n",
    "            # Fit the learner to the training data\n",
    "            regressor.fit(X_train[:s], y_train[:s])\n",
    "\n",
    "            # Find the performance on the training set\n",
    "            train_err[i] = performance_metric(y_train[:s], regressor.predict(X_train[:s]))\n",
    "            \n",
    "            # Find the performance on the testing set\n",
    "            test_err[i] = performance_metric(y_test, regressor.predict(X_test))\n",
    "\n",
    "        # Subplot the learning curve graph\n",
    "        ax = fig.add_subplot(2, 2, k+1)\n",
    "        ax.plot(sizes, test_err, lw = 2, label = 'Testing Error')\n",
    "        ax.plot(sizes, train_err, lw = 2, label = 'Training Error')\n",
    "        ax.legend()\n",
    "        ax.set_title('max_depth = %s'%(depth))\n",
    "        ax.set_xlabel('Number of Data Points in Training Set')\n",
    "        ax.set_ylabel('Total Error')\n",
    "        ax.set_xlim([0, len(X_train)])\n",
    "    \n",
    "    # Visual aesthetics\n",
    "    fig.suptitle('Decision Tree Regressor Learning Performances', fontsize=18, y=1.03)\n",
    "    fig.tight_layout()\n",
    "    fig.show()"
   ]
  },
  {
   "cell_type": "code",
   "execution_count": 73,
   "metadata": {
    "collapsed": false
   },
   "outputs": [],
   "source": [
    "def model_complexity(X_train, y_train, X_test, y_test):\n",
    "    \"\"\" Calculates the performance of the model as model complexity increases.\n",
    "        The learning and testing errors rates are then plotted. \"\"\"\n",
    "    \n",
    "    print(\"Creating a model complexity graph. . . \")\n",
    "\n",
    "    # We will vary the max_depth of a decision tree model from 1 to 14\n",
    "    max_depth = np.arange(1, 14)\n",
    "    train_err = np.zeros(len(max_depth))\n",
    "    test_err = np.zeros(len(max_depth))\n",
    "\n",
    "    for i, d in enumerate(max_depth):\n",
    "        # Setup a Decision Tree Regressor so that it learns a tree with depth d\n",
    "        regressor = DecisionTreeRegressor(max_depth = d)\n",
    "\n",
    "        # Fit the learner to the training data\n",
    "        regressor.fit(X_train, y_train)\n",
=======
    "-----\n",
>>>>>>> e39d4b4be0864ea2588b9f81dea5bb1f8b8fdfbf
    "\n",
    "## Evaluating Model Performance\n",
    "In this final section of the project, you will construct a model and make a prediction on the client's feature set using an optimized model from `fit_model`."
   ]
  },
  {
   "cell_type": "markdown",
   "metadata": {},
   "source": [
<<<<<<< HEAD
    "# Analyzing Model Performance\n",
    "In this third section of the project, you'll take a look at several models' learning and testing error rates on various subsets of training data. Additionally, you'll investigate one particular algorithm with an increasing `max_depth` parameter on the full training set to observe how model complexity affects learning and testing errors. Graphing your model's performance based on varying criteria can be beneficial in the analysis process, such as visualizing behavior that may not have been apparent from the results alone."
   ]
  },
  {
   "cell_type": "code",
   "execution_count": 74,
   "metadata": {
    "collapsed": false
   },
   "outputs": [
    {
     "name": "stderr",
     "output_type": "stream",
     "text": [
      "/usr/local/lib/python3.5/site-packages/ipykernel/__main__.py:24: DeprecationWarning: using a non-integer number instead of an integer will result in an error in the future\n",
      "/usr/local/lib/python3.5/site-packages/ipykernel/__main__.py:27: DeprecationWarning: using a non-integer number instead of an integer will result in an error in the future\n",
      "/usr/local/lib/python3.5/site-packages/matplotlib/figure.py:397: UserWarning: matplotlib is currently using a non-GUI backend, so cannot show the figure\n",
      "  \"matplotlib is currently using a non-GUI backend, \"\n"
     ]
    },
    {
     "name": "stdout",
     "output_type": "stream",
     "text": [
      "Creating learning curve graphs for max_depths of 1, 3, 6, and 10. . .\n"
     ]
    },
    {
     "data": {
      "image/png": "iVBORw0KGgoAAAANSUhEUgAAAskAAAJWCAYAAACqBRp7AAAABHNCSVQICAgIfAhkiAAAAAlwSFlz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\nlPA3Zu2YBlDXpX4AAAAASUVORK5CYII=\n",
      "text/plain": [
       "<matplotlib.figure.Figure at 0x107e93ef0>"
      ]
     },
     "metadata": {},
     "output_type": "display_data"
    }
   ],
   "source": [
    "learning_curves(X_train, y_train, X_test, y_test)"
=======
    "### Question 7 - Grid Search\n",
    "*What is the grid search technique and how it can be applied to optimize a learning algorithm?*"
>>>>>>> e39d4b4be0864ea2588b9f81dea5bb1f8b8fdfbf
   ]
  },
  {
   "cell_type": "markdown",
   "metadata": {},
   "source": [
<<<<<<< HEAD
    "## Question 7\n",
    "* Choose one of the learning curve graphs that are created above. What is the max depth for the chosen model? As the size of the training set increases, what happens to the training error? What happens to the testing error? *"
=======
    "**Answer: **"
>>>>>>> e39d4b4be0864ea2588b9f81dea5bb1f8b8fdfbf
   ]
  },
  {
   "cell_type": "markdown",
   "metadata": {},
   "source": [
<<<<<<< HEAD
    "**Answer: **\n",
    "\n",
    "I would choose max_depth = 3. First, the error rate is consistent or nearly equal to more complex models (6, 10) and following occams rule we should choose the least complex model that achieves similair error rates. Second, it looks like the more complex models have some overfitting. \n",
    "\n",
    "The general trend as the # of data points increase is that the total error goes down for the testing error while raising slowly for the training error. \n"
=======
    "### Question 8 - Cross-Validation\n",
    "*What is the k-fold cross-validation training technique? What benefit does this technique provide for grid search when optimizing a model?*  \n",
    "**Hint:** Much like the reasoning behind having a testing set, what could go wrong with using grid search without a cross-validated set?"
>>>>>>> e39d4b4be0864ea2588b9f81dea5bb1f8b8fdfbf
   ]
  },
  {
   "cell_type": "markdown",
   "metadata": {},
   "source": [
<<<<<<< HEAD
    "## Question 8\n",
    "* Look at the learning curve graphs for the model with a max depth of 1 and a max depth of 10. When the model is using the full training set, does it suffer from high bias or high variance when the max depth is 1? What about when the max depth is 10? *"
=======
    "**Answer: **"
>>>>>>> e39d4b4be0864ea2588b9f81dea5bb1f8b8fdfbf
   ]
  },
  {
   "cell_type": "markdown",
   "metadata": {},
   "source": [
<<<<<<< HEAD
    "**Answer: **\n",
    "\n",
    "With max-depth 1 there is lower variance and higher bias on the testing data. Generally once the number of data points in the training set hits around 25 the traing and testing error stabilizes significantly and converage at 5 fo testing and 4.5 for training. They completely converage at n ~= 300. These levels of error are higher that what is accomplished with other max-depths. As we can see here when adding new data does not decrease total error in the testing case it can be used to show the a strong bias is in place.\n",
    "\n",
    "With max-depth 10 there is higher variance and lower bias on the testing data. Here you can see the total training error never raises very significantly while the testing error drops significantly until n ~= 50. The testing error, while varies slightly (esp compared to md=1), stabilizes around 3. \n",
    "\n",
    "Lower variance means that the line is less smooth/linear which is evident in the differences between md1 and md10.\n",
    "\n",
    "Bias is shown in the graphs by where the error lines tend to stabilize in relation to 0 total error. The higher (further) they are the higher the bais. In the graphs it is then easy to see md1 has a higher bias (or stable total error) when compared to md10. \n"
=======
    "### Implementation: Fitting a Model\n",
    "Your final implementation requires that you bring everything together and train a model using the **decision tree algorithm**. To ensure that you are producing an optimized model, you will train the model using the grid search technique to optimize the `'max_depth'` parameter for the decision tree. The `'max_depth'` parameter can be thought of as how many questions the decision tree algorithm is allowed to ask about the data before making a prediction. Decision trees are part of a class of algorithms called *supervised learning algorithms*.\n",
    "\n",
    "For the `fit_model` function in the code cell below, you will need to implement the following:\n",
    "- Use [`DecisionTreeRegressor`](http://scikit-learn.org/stable/modules/generated/sklearn.tree.DecisionTreeRegressor.html) from `sklearn.tree` to create a decision tree regressor object.\n",
    "  - Assign this object to the `'regressor'` variable.\n",
    "- Create a dictionary for `'max_depth'` with the values from 1 to 10, and assign this to the `'params'` variable.\n",
    "- Use [`make_scorer`](http://scikit-learn.org/stable/modules/generated/sklearn.metrics.make_scorer.html) from `sklearn.metrics` to create a scoring function object.\n",
    "  - Pass the `performance_metric` function as a parameter to the object.\n",
    "  - Assign this scoring function to the `'scoring_fnc'` variable.\n",
    "- Use [`GridSearchCV`](http://scikit-learn.org/stable/modules/generated/sklearn.grid_search.GridSearchCV.html) from `sklearn.grid_search` to create a grid search object.\n",
    "  - Pass the variables `'regressor'`, `'params'`, `'scoring_fnc'`, and `'cv_sets'` as parameters to the object. \n",
    "  - Assign the `GridSearchCV` object to the `'grid'` variable."
>>>>>>> e39d4b4be0864ea2588b9f81dea5bb1f8b8fdfbf
   ]
  },
  {
   "cell_type": "code",
   "execution_count": 75,
   "metadata": {
    "collapsed": false
   },
   "outputs": [
    {
     "name": "stdout",
     "output_type": "stream",
     "text": [
      "Creating a model complexity graph. . . \n"
     ]
    },
    {
     "data": {
      "image/png": "iVBORw0KGgoAAAANSUhEUgAAAbQAAAFRCAYAAAAcvVh3AAAABHNCSVQICAgIfAhkiAAAAAlwSFlz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\n",
      "text/plain": [
       "<matplotlib.figure.Figure at 0x107bd02b0>"
      ]
     },
     "metadata": {},
     "output_type": "display_data"
    }
   ],
   "source": [
    "# TODO: Import 'make_scorer', 'DecisionTreeRegressor', and 'GridSearchCV'\n",
    "\n",
    "def fit_model(X, y):\n",
    "    \"\"\" Performs grid search over the 'max_depth' parameter for a \n",
    "        decision tree regressor trained on the input data [X, y]. \"\"\"\n",
    "    \n",
    "    # Create cross-validation sets from the training data\n",
    "    cv_sets = ShuffleSplit(X.shape[0], n_iter = 10, test_size = 0.20, random_state = 0)\n",
    "\n",
    "    # TODO: Create a decision tree regressor object\n",
    "    regressor = None\n",
    "\n",
    "    # TODO: Create a dictionary for the parameter 'max_depth' with a range from 1 to 10\n",
    "    params = {}\n",
    "\n",
    "    # TODO: Transform 'performance_metric' into a scoring function using 'make_scorer' \n",
    "    scoring_fnc = None\n",
    "\n",
    "    # TODO: Create the grid search object\n",
    "    grid = None\n",
    "\n",
    "    # Fit the grid search object to the data to compute the optimal model\n",
    "    grid = grid.fit(X, y)\n",
    "\n",
    "    # Return the optimal model after fitting the data\n",
    "    return grid.best_estimator_"
   ]
  },
  {
   "cell_type": "markdown",
   "metadata": {},
   "source": [
<<<<<<< HEAD
    "## Question 9\n",
    "* From the model complexity graph above, describe the training and testing errors as the max depth increases. Based on your interpretation of the graph, which max depth results in a model that best generalizes the dataset? Why? *"
=======
    "### Making Predictions\n",
    "Once a model has been trained on a given set of data, it can now be used to make predictions on new sets of input data. In the case of a *decision tree regressor*, the model has learned *what the best questions to ask about the input data are*, and can respond with a prediction for the **target variable**. You can use these predictions to gain information about data where the value of the target variable is unknown — such as data the model was not trained on."
>>>>>>> e39d4b4be0864ea2588b9f81dea5bb1f8b8fdfbf
   ]
  },
  {
   "cell_type": "markdown",
   "metadata": {},
   "source": [
<<<<<<< HEAD
    "**Answer: **\n",
    "\n",
    "It looks like the testing error levels out at around max-depth 4 and while the error on training data continues to drop this is most likely from overfitting. Again occams rule says to pick the simplest model that has an acceptable error rate."
=======
    "### Question 9 - Optimal Model\n",
    "_What maximum depth does the optimal model have? How does this result compare to your guess in **Question 6**?_  \n",
    "\n",
    "Run the code block below to fit the decision tree regressor to the training data and produce an optimal model."
   ]
  },
  {
   "cell_type": "code",
   "execution_count": null,
   "metadata": {
    "collapsed": false,
    "scrolled": true
   },
   "outputs": [],
   "source": [
    "# Fit the training data to the model using grid search\n",
    "reg = fit_model(X_train, y_train)\n",
    "\n",
    "# Produce the value for 'max_depth'\n",
    "print \"Parameter 'max_depth' is {} for the optimal model.\".format(reg.get_params()['max_depth'])"
>>>>>>> e39d4b4be0864ea2588b9f81dea5bb1f8b8fdfbf
   ]
  },
  {
   "cell_type": "markdown",
   "metadata": {},
   "source": [
<<<<<<< HEAD
    "# Model Prediction\n",
    "\n",
    "In this final section of the project, you will make a prediction on the client's feature set using an optimized model from `fit_model`. *To answer the following questions, it is recommended that you run the code blocks several times and use the median or mean value of the results.*"
=======
    "**Answer: **"
>>>>>>> e39d4b4be0864ea2588b9f81dea5bb1f8b8fdfbf
   ]
  },
  {
   "cell_type": "markdown",
   "metadata": {},
   "source": [
<<<<<<< HEAD
    "## Question 10\n",
    "*Using grid search on the entire dataset, what is the optimal `max_depth` parameter for your model? How does this result compare to your intial intuition?*  \n",
    "\n",
    "**Hint: ** Run the code block below to see the max depth produced by your optimized model."
=======
    "### Question 10 - Predicting Selling Prices\n",
    "Imagine that you were a real estate agent in the Boston area looking to use this model to help price homes owned by your clients that they wish to sell. You have collected the following information from three of your clients:\n",
    "\n",
    "| Feature | Client 1 | Client 2 | Client 3 |\n",
    "| :---: | :---: | :---: | :---: |\n",
    "| Total number of rooms in home | 5 rooms | 4 rooms | 8 rooms |\n",
    "| Neighborhood poverty level (as %) | 17% | 32% | 3% |\n",
    "| Student-teacher ratio of nearby schools | 15-to-1 | 22-to-1 | 12-to-1 |\n",
    "*What price would you recommend each client sell his/her home at? Do these prices seem reasonable given the values for the respective features?*  \n",
    "**Hint:** Use the statistics you calculated in the **Data Exploration** section to help justify your response.  \n",
    "\n",
    "Run the code block below to have your optimized model make predictions for each client's home."
>>>>>>> e39d4b4be0864ea2588b9f81dea5bb1f8b8fdfbf
   ]
  },
  {
   "cell_type": "code",
   "execution_count": 84,
   "metadata": {
    "collapsed": false
   },
   "outputs": [
    {
     "name": "stdout",
     "output_type": "stream",
     "text": [
      "Final model optimal parameters: {'max_depth': 4}\n"
     ]
    }
   ],
   "source": [
<<<<<<< HEAD
    "print(\"Final model optimal parameters:\", reg.best_params_)"
=======
    "# Produce a matrix for client data\n",
    "client_data = [[5, 17, 15], # Client 1\n",
    "               [4, 32, 22], # Client 2\n",
    "               [8, 3, 12]]  # Client 3\n",
    "\n",
    "# Show predictions\n",
    "for i, price in enumerate(reg.predict(client_data)):\n",
    "    print \"Predicted selling price for Client {}'s home: ${:,.2f}\".format(i+1, price)"
>>>>>>> e39d4b4be0864ea2588b9f81dea5bb1f8b8fdfbf
   ]
  },
  {
   "cell_type": "markdown",
   "metadata": {},
   "source": [
    "**Answer: **\n",
    "\n",
    "4 which is spot on with what the graph indicated."
   ]
  },
  {
   "cell_type": "markdown",
   "metadata": {},
   "source": [
<<<<<<< HEAD
    "## Question 11\n",
    "* With your parameter-tuned model, what is the best selling price for your client's home? How does this selling price compare to the basic statistics you calculated on the dataset? *  \n",
    "\n",
    "**Hint: ** Run the code block below to have your parameter-tuned model make a prediction on the client's home."
=======
    "### Sensitivity\n",
    "An optimal model is not necessarily a robust model. Sometimes, a model is either too complex or too simple to sufficiently generalize to new data. Sometimes, a model could use a learning algorithm that is not appropriate for the structure of the data given. Other times, the data itself could be too noisy or contain too few samples to allow a model to adequately capture the target variable — i.e., the model is underfitted. Run the code cell below to run the `fit_model` function ten times with different training and testing sets to see how the prediction for a specific client changes with the data it's trained on."
>>>>>>> e39d4b4be0864ea2588b9f81dea5bb1f8b8fdfbf
   ]
  },
  {
   "cell_type": "code",
   "execution_count": 87,
   "metadata": {
    "collapsed": false
   },
<<<<<<< HEAD
   "outputs": [
    {
     "name": "stdout",
     "output_type": "stream",
     "text": [
      "Predicted value of client's home: 21.630\n"
     ]
    }
   ],
   "source": [
    "reg.max_depth = 5\n",
    "sale_price = reg.predict(CLIENT_FEATURES)\n",
    "print(\"Predicted value of client's home: {0:.3f}\".format(sale_price[0]))"
   ]
  },
  {
   "cell_type": "markdown",
   "metadata": {},
   "source": [
    "**Answer: **\n",
    "\n",
    "$216,300. \n",
    "\n",
    "Stats: \n",
    "Minimum house price: 5.0, above min\n",
    "Maximum house price: 50.0, below max\n",
    "Mean house price: 22.533, a little under mean\n",
    "Median house price: 21.2, a little over median\n",
    "\n",
    "Generally the house sits right in the middle of the market and sits easily within 1 stdev.\n",
    "\n",
    "Added the pro-tip below:"
   ]
  },
  {
   "cell_type": "code",
   "execution_count": 90,
   "metadata": {
    "collapsed": false
   },
   "outputs": [
    {
     "name": "stdout",
     "output_type": "stream",
     "text": [
      "Nearest Neighbors average: 21.52\n"
     ]
    }
   ],
   "source": [
    "from sklearn.neighbors import NearestNeighbors\n",
    "def find_nearest_neighbor_indexes(x, X):  # x is your vector and X is the data set.\n",
    "   neigh = NearestNeighbors( n_neighbors = 10 )\n",
    "   neigh.fit( X)\n",
    "   distance, indexes = neigh.kneighbors( x )\n",
    "   return indexes\n",
    "\n",
    "indexes = find_nearest_neighbor_indexes(CLIENT_FEATURES,housing_features)\n",
    "sum_prices = []\n",
    "for i in indexes:\n",
    "    sum_prices.append(city_data.target[i])\n",
    "neighbor_avg = np.mean(sum_prices)\n",
    "print(\"Nearest Neighbors average: \" + str(neighbor_avg))"
=======
   "outputs": [],
   "source": [
    "vs.PredictTrials(features, prices, fit_model, client_data)"
>>>>>>> e39d4b4be0864ea2588b9f81dea5bb1f8b8fdfbf
   ]
  },
  {
   "cell_type": "markdown",
   "metadata": {},
   "source": [
<<<<<<< HEAD
    "## Question 12 (Final Question):\n",
    "* In a few sentences, discuss whether you would use this model or not to predict the selling price of future clients' homes in the Greater Boston area. *"
=======
    "### Question 11 - Applicability\n",
    "*In a few sentences, discuss whether the constructed model should or should not be used in a real-world setting.*  \n",
    "**Hint:** Some questions to answering:\n",
    "- *How relevant today is data that was collected from 1978?*\n",
    "- *Are the features present in the data sufficient to describe a home?*\n",
    "- *Is the model robust enough to make consistent predictions?*\n",
    "- *Would data collected in an urban city like Boston be applicable in a rural city?*"
>>>>>>> e39d4b4be0864ea2588b9f81dea5bb1f8b8fdfbf
   ]
  },
  {
   "cell_type": "markdown",
   "metadata": {},
   "source": [
    "**Answer: **\n",
    "\n",
    "There are a couple areas that I'd want to investigate more before using this model as is. The first is I'd want to explore if any variables are highly influencing the outcomes. Another would be if there are any outliers that could be candidates for removal. I'd also want to try and explore other methods of predictions.\n",
    "\n",
    "Generally though given that this is predicting a very averaged priced house I don't think there would be any major blockers from using this as a guideline. "
   ]
  }
 ],
 "metadata": {
  "kernelspec": {
   "display_name": "Python 3",
   "language": "python",
   "name": "python3"
  },
  "language_info": {
   "codemirror_mode": {
    "name": "ipython",
    "version": 3
   },
   "file_extension": ".py",
   "mimetype": "text/x-python",
   "name": "python",
   "nbconvert_exporter": "python",
   "pygments_lexer": "ipython3",
   "version": "3.5.1"
  }
 },
 "nbformat": 4,
 "nbformat_minor": 0
}
